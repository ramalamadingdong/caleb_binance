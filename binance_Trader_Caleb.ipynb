{
 "cells": [
  {
   "cell_type": "code",
   "execution_count": 2,
   "metadata": {},
   "outputs": [],
   "source": [
    "api_key = 'API KEY'\r\n",
    "api_secret = 'API SECRET'\r\n",
    "import pandas as pd\r\n",
    "from binance.client import Client\r\n",
    "import matplotlib.pyplot as plt\r\n",
    "from datetime import datetime\r\n",
    "import pandas_ta as ta\r\n"
   ]
  },
  {
   "cell_type": "code",
   "execution_count": 3,
   "metadata": {},
   "outputs": [],
   "source": [
    "client = Client(api_key, api_secret)"
   ]
  },
  {
   "cell_type": "code",
   "execution_count": 4,
   "metadata": {
    "tags": []
   },
   "outputs": [],
   "source": [
    "ticker = 'BTCUSDT'\r\n",
    "interval = Client.KLINE_INTERVAL_5MINUTE\r\n",
    "#depth = '12 hours ago'\r\n",
    "\r\n",
    "raw = client.get_historical_klines(ticker, interval, \"01 Jan, 2020\", \"01 Nov, 2020\")"
   ]
  },
  {
   "cell_type": "code",
   "execution_count": 5,
   "metadata": {},
   "outputs": [],
   "source": [
    "btc_df = pd.DataFrame(raw, columns=['date', 'open', 'high', 'low', 'close', 'Volume', 'Close Time', 'Quote Asset Volume', 'Number of trades', 'Taker buy base', 'Taker buy quote asset volume', 'ignore'])\r\n",
    "btc_df.set_index('date', inplace=True)\r\n",
    "btc_df.index = pd.to_datetime(btc_df.index, unit='ms')\r\n",
    "btc_df['Close Time'] = pd.to_datetime(btc_df['Close Time'], unit='ms')\r\n",
    "btc_df['open'] = btc_df.high.astype(float)\r\n",
    "btc_df['high'] = btc_df.high.astype(float)\r\n",
    "btc_df['low'] = btc_df.high.astype(float)\r\n",
    "btc_df['close'] = btc_df.high.astype(float)\r\n",
    "btc_df['Volume'] = btc_df.high.astype(float)\r\n",
    "\r\n",
    "btc_df = btc_df.drop(btc_df.columns[[5, 6, 7, 8, 9, 10]], axis=1)\r\n"
   ]
  },
  {
   "cell_type": "code",
   "execution_count": 6,
   "metadata": {},
   "outputs": [],
   "source": [
    "sma_10 = ta.sma(btc_df[\"Volume\"], length=10) #50 mins\r\n",
    "sma_50 = ta.sma(btc_df[\"Volume\"], length=50) # 4 hours\r\n",
    "\r\n",
    "sma_close_f = ta.sma(btc_df[\"close\"], length=2) # 25 mins\r\n",
    "sma_close_s = ta.sma(btc_df[\"close\"], length=4) # 25 mins\r\n",
    "\r\n",
    "macd = ta.macd(btc_df['close'])\r\n"
   ]
  },
  {
   "cell_type": "code",
   "execution_count": 9,
   "metadata": {
    "tags": []
   },
   "outputs": [
    {
     "name": "stdout",
     "output_type": "stream",
     "text": [
      "took the losing trade at the end\n",
      "money =  117.45442112927478\n",
      "number of buys =  686\n"
     ]
    }
   ],
   "source": [
    "#df = pd.DataFrame()\r\n",
    "money = 50\r\n",
    "btc = 0\r\n",
    "cnt = 0\r\n",
    "for index, row in macd.iterrows():\r\n",
    "    c = round(float(row['MACD_12_26_9']), 1)\r\n",
    "    #s = round(float(row['MACDs_12_26_9']), 1)\r\n",
    "    \r\n",
    "    vol_con = float(sma_10.loc[[index]].values) - float(sma_50.loc[[index]].values)\r\n",
    "    if money > 0 and c < 0 and vol_con >-2:\r\n",
    "        cnt += 1\r\n",
    "        buy_price = float(btc_df.loc[[index]]['close'].values)\r\n",
    "        #print(\"Buy: \", buy_price)\r\n",
    "        btc = (money / buy_price) - ((money / buy_price)*0.0001)\r\n",
    "        money = 0\r\n",
    "    if btc > 0 and (c > 10):\r\n",
    "        sell_price = float(btc_df.loc[[index]]['close'].values)\r\n",
    "        #print(\"Sell\", sell_price)\r\n",
    "        money = (btc * sell_price) - ((btc * sell_price)*0.0001)\r\n",
    "        btc = 0\r\n",
    "    #df = df.append({'Date': index, 'price': money}, ignore_index=True)\r\n",
    "if btc > 0:\r\n",
    "    print(\"took the losing trade at the end\")\r\n",
    "    dat = float(btc_df.tail(1)['close'].values)\r\n",
    "    money = (btc * dat) - ((btc * dat)*0.0001)\r\n",
    "\r\n",
    "print(\"money = \", money)\r\n",
    "print(\"number of buys = \", cnt)\r\n"
   ]
  },
  {
   "cell_type": "markdown",
   "metadata": {},
   "source": [
    "~~~~~~~THIS IS IT~~~~~~~~~~~~"
   ]
  }
 ],
 "metadata": {
  "kernelspec": {
   "display_name": "Python 3.8.5 64-bit ('trading': conda)",
   "metadata": {
    "interpreter": {
     "hash": "7328da8a234f6fbb05f15f720aac2d8e0924d844c6dc8c7b8b76167fcf0e3679"
    }
   },
   "name": "python3"
  },
  "language_info": {
   "codemirror_mode": {
    "name": "ipython",
    "version": 3
   },
   "file_extension": ".py",
   "mimetype": "text/x-python",
   "name": "python",
   "nbconvert_exporter": "python",
   "pygments_lexer": "ipython3",
   "version": "3.8.5-final"
  },
  "orig_nbformat": 2
 },
 "nbformat": 4,
 "nbformat_minor": 2
}